{
 "cells": [
  {
   "cell_type": "code",
   "execution_count": 1,
   "metadata": {},
   "outputs": [],
   "source": [
    "import numpy as np\n",
    "import copy\n",
    "from sudokusolver import SudokuSolver"
   ]
  },
  {
   "cell_type": "code",
   "execution_count": 2,
   "metadata": {},
   "outputs": [],
   "source": [
    "# Create 10 x 10 matrix so non programming user can fill the input with 1 based index\n",
    "sudoku = np.zeros((10, 10), dtype=int)"
   ]
  },
  {
   "cell_type": "code",
   "execution_count": 3,
   "metadata": {},
   "outputs": [],
   "source": [
    "sudoku[1, []] = []\n",
    "sudoku[2, []] = []\n",
    "sudoku[3, []] = []\n",
    "sudoku[4, []] = []\n",
    "sudoku[5, []] = []\n",
    "sudoku[6, []] = []\n",
    "sudoku[7, []] = []\n",
    "sudoku[8, []] = []\n",
    "sudoku[9, []] = []\n",
    "\n",
    "# # Hard 1\n",
    "# sudoku[1, [2, 4, 5, 6]] = [8, 5, 6, 4]\n",
    "# sudoku[2, [3, 9]] = [9, 6]\n",
    "# sudoku[3, [2, 3, 6, 8]] = [5, 4, 9, 2]\n",
    "# sudoku[4, [5, 6, 9]] = [5, 8, 3]\n",
    "# sudoku[5, [4, 6]] = [4, 2]\n",
    "# sudoku[6, [1, 4, 5]] = [4, 7, 9]\n",
    "# sudoku[7, [2, 4, 7, 8]] = [3, 9, 8, 7]\n",
    "# sudoku[8, [1, 7]] = [9, 2]\n",
    "# sudoku[9, [4, 5, 6, 8]] = [2, 8, 6, 9]\n",
    "\n",
    "# # Hard 2\n",
    "# sudoku[1, [5, 7, 8]] = [3, 4, 9]\n",
    "# sudoku[2, [1, 2, 4, 6, 8, 9]] = [3, 5, 4, 1, 2, 8]\n",
    "# sudoku[3, [3, 4, 5, 6, 8]] = [9, 6, 2, 5, 3]\n",
    "# sudoku[4, [2, 3, 5, 6, 7, 8, 9]] = [9, 8, 5, 4, 3, 6, 7]\n",
    "# sudoku[5, [3, 4, 6]] = [3, 9, 6]\n",
    "# sudoku[6, [1, 2, 3]] = [6, 7, 1]\n",
    "# sudoku[7, [7, 9]] = [1, 3]\n",
    "# sudoku[8, [1, 5, 6, 8, 9]] = [7, 1, 8, 4, 9]\n",
    "# sudoku[9, [1, 2, 8, 9]] = [9, 1, 8, 6]\n",
    "\n",
    "# # Expert 1\n",
    "# sudoku[1, [8]] = [5]\n",
    "# sudoku[2, [1]] = [3]\n",
    "# sudoku[3, [2, 3, 4]] = [7, 2, 9]\n",
    "# sudoku[4, [7, 8, 9]] = [1, 7, 8]\n",
    "# sudoku[5, [1, 5, 7, 9]] = [8, 6, 3, 2]\n",
    "# sudoku[6, [1, 5]] = [1, 2]\n",
    "# sudoku[7, [5, 6, 9]] = [1, 3, 6]\n",
    "# sudoku[8, [2, 4, 8]] = [5, 4, 9]\n",
    "# sudoku[9, [3, 6]] = [6, 7]\n",
    "\n",
    "# Expert 2\n",
    "sudoku[1, [4, 5]] = [1, 7]\n",
    "sudoku[2, [7]] = [7]\n",
    "sudoku[3, [3, 5, 9]] = [3, 5, 6]\n",
    "sudoku[4, [1, 3, 7]] = [8, 6, 9]\n",
    "sudoku[5, [6, 9]] = [9, 1]\n",
    "sudoku[6, [2, 6]] = [2, 8]\n",
    "sudoku[7, [1, 3, 4, 7]] = [5, 2, 9, 8]\n",
    "sudoku[8, [2, 3]] = [4, 1]\n",
    "sudoku[9, [2, 6, 7]] = [6, 4, 3]"
   ]
  },
  {
   "cell_type": "code",
   "execution_count": 4,
   "metadata": {},
   "outputs": [],
   "source": [
    "# Truncate oth elements to make the matrix back to zero based index\n",
    "sudoku = sudoku[1:, 1:]"
   ]
  },
  {
   "cell_type": "code",
   "execution_count": 5,
   "metadata": {},
   "outputs": [
    {
     "data": {
      "text/plain": [
       "array([[0, 0, 0, 1, 7, 0, 0, 0, 0],\n",
       "       [0, 0, 0, 0, 0, 0, 7, 0, 0],\n",
       "       [0, 0, 3, 0, 5, 0, 0, 0, 6],\n",
       "       [8, 0, 6, 0, 0, 0, 9, 0, 0],\n",
       "       [0, 0, 0, 0, 0, 9, 0, 0, 1],\n",
       "       [0, 2, 0, 0, 0, 8, 0, 0, 0],\n",
       "       [5, 0, 2, 9, 0, 0, 8, 0, 0],\n",
       "       [0, 4, 1, 0, 0, 0, 0, 0, 0],\n",
       "       [0, 6, 0, 0, 0, 4, 3, 0, 0]])"
      ]
     },
     "execution_count": 5,
     "metadata": {},
     "output_type": "execute_result"
    }
   ],
   "source": [
    "sudoku"
   ]
  },
  {
   "cell_type": "code",
   "execution_count": 6,
   "metadata": {},
   "outputs": [
    {
     "name": "stdout",
     "output_type": "stream",
     "text": [
      "[[0 0 0 1 7 0 0 0 0]\n",
      " [0 0 0 0 0 0 7 0 0]\n",
      " [0 0 3 0 5 0 0 0 6]\n",
      " [8 0 6 0 0 0 9 0 0]\n",
      " [0 0 0 0 0 9 0 0 1]\n",
      " [0 2 0 0 0 8 0 0 0]\n",
      " [5 0 2 9 0 0 8 0 0]\n",
      " [0 4 1 0 0 0 0 0 0]\n",
      " [0 6 0 0 0 4 3 0 0]]\n",
      "Sudoku is consistent\n",
      "Updating 2 at 2, 5\n",
      "Updating 1 at 2, 6\n",
      "Updating 8 at 4, 7\n",
      "Updating 8 at 8, 2\n",
      "Updating 9 at 1, 4\n",
      "Updating 8 at 7, 4\n",
      "Unable to solve the problem\n",
      "[[0 0 0 1 7 0 0 0 0]\n",
      " [0 0 0 0 9 0 7 0 0]\n",
      " [0 0 3 0 5 2 1 0 6]\n",
      " [8 0 6 0 0 0 9 0 0]\n",
      " [0 0 0 0 0 9 0 8 1]\n",
      " [0 2 0 0 0 8 0 0 0]\n",
      " [5 0 2 9 0 0 8 0 0]\n",
      " [0 4 1 0 8 0 0 0 0]\n",
      " [0 6 8 0 0 4 3 0 0]]\n",
      "Guessing between {3, 6} at 0, 5\n",
      "[[0 0 0 1 7 0 0 0 0]\n",
      " [0 0 0 0 9 0 7 0 0]\n",
      " [0 0 3 0 5 2 1 0 6]\n",
      " [8 0 6 0 0 0 9 0 0]\n",
      " [0 0 0 0 0 9 0 8 1]\n",
      " [0 2 0 0 0 8 0 0 0]\n",
      " [5 0 2 9 0 0 8 0 0]\n",
      " [0 4 1 0 8 0 0 0 0]\n",
      " [0 6 8 0 0 4 3 0 0]]\n",
      "Guessing 3 at 0, 5\n",
      "Updating 6 at 1, 5\n",
      "Updating 6 at 0, 0\n",
      "Updating 2 at 1, 0\n",
      "Updating 1 at 1, 1\n",
      "Updating 1 at 5, 0\n",
      "Updating 9 at 5, 2\n",
      "Updating 7 at 4, 2\n",
      "Updating 4 at 4, 0\n",
      "Updating 3 at 7, 0\n",
      "Updating 7 at 6, 1\n",
      "Updating 1 at 6, 5\n",
      "Updating 4 at 6, 8\n",
      "Updating 9 at 8, 0\n",
      "Updating 2 at 8, 4\n",
      "Updating 7 at 2, 0\n",
      "Updating 6 at 6, 7\n",
      "Updating 3 at 6, 4\n",
      "Updating 6 at 4, 4\n",
      "Updating 4 at 5, 4\n",
      "Updating 1 at 3, 4\n",
      "Updating 1 at 8, 7\n",
      "Updating 4 at 3, 7\n",
      "Updating 9 at 2, 7\n",
      "Updating 8 at 2, 1\n",
      "Updating 4 at 2, 3\n",
      "Updating 8 at 1, 3\n",
      "Updating 4 at 1, 2\n",
      "Updating 5 at 0, 2\n",
      "Updating 2 at 0, 7\n",
      "Updating 8 at 0, 8\n",
      "Updating 9 at 0, 1\n",
      "Updating 4 at 0, 6\n",
      "Updating 6 at 5, 6\n",
      "Updating 6 at 7, 3\n",
      "Updating 9 at 7, 8\n",
      "Updating 2 at 7, 6\n",
      "Updating 5 at 4, 6\n",
      "Updating 3 at 4, 1\n",
      "Updating 2 at 4, 3\n",
      "Updating 5 at 3, 1\n",
      "Updating 7 at 3, 5\n",
      "Updating 5 at 7, 5\n",
      "Updating 7 at 7, 7\n",
      "Updating 7 at 8, 3\n",
      "Updating 5 at 8, 8\n",
      "Updating 3 at 1, 8\n",
      "Updating 3 at 3, 3\n",
      "Updating 2 at 3, 8\n",
      "Updating 5 at 5, 3\n",
      "Updating 3 at 5, 7\n",
      "Updating 7 at 5, 8\n",
      "Updating 5 at 1, 7\n",
      "Solved the sudoku problem completely\n",
      "Final solution\n",
      "[[6 9 5 1 7 3 4 2 8]\n",
      " [2 1 4 8 9 6 7 5 3]\n",
      " [7 8 3 4 5 2 1 9 6]\n",
      " [8 5 6 3 1 7 9 4 2]\n",
      " [4 3 7 2 6 9 5 8 1]\n",
      " [1 2 9 5 4 8 6 3 7]\n",
      " [5 7 2 9 3 1 8 6 4]\n",
      " [3 4 1 6 8 5 2 7 9]\n",
      " [9 6 8 7 2 4 3 1 5]]\n"
     ]
    }
   ],
   "source": [
    "mysolver = SudokuSolver(sudoku)\n",
    "mysolver.solveit()"
   ]
  },
  {
   "cell_type": "code",
   "execution_count": null,
   "metadata": {},
   "outputs": [],
   "source": []
  }
 ],
 "metadata": {
  "kernelspec": {
   "display_name": "Python 3",
   "language": "python",
   "name": "python3"
  },
  "language_info": {
   "codemirror_mode": {
    "name": "ipython",
    "version": 3
   },
   "file_extension": ".py",
   "mimetype": "text/x-python",
   "name": "python",
   "nbconvert_exporter": "python",
   "pygments_lexer": "ipython3",
   "version": "3.7.3"
  }
 },
 "nbformat": 4,
 "nbformat_minor": 2
}
